{
  "nbformat": 4,
  "nbformat_minor": 0,
  "metadata": {
    "colab": {
      "provenance": []
    },
    "kernelspec": {
      "name": "python3",
      "display_name": "Python 3"
    },
    "language_info": {
      "name": "python"
    }
  },
  "cells": [
    {
      "cell_type": "code",
      "execution_count": 3,
      "metadata": {
        "colab": {
          "base_uri": "https://localhost:8080/"
        },
        "id": "Yw3hUKHDlt4F",
        "outputId": "2a9c064d-05c9-468c-bc9c-a731d3e92f42"
      },
      "outputs": [
        {
          "output_type": "stream",
          "name": "stdout",
          "text": [
            "Pipeline saved successfully!\n"
          ]
        }
      ],
      "source": [
        "import pandas as pd\n",
        "import numpy as np\n",
        "from sklearn.pipeline import Pipeline\n",
        "from sklearn.impute import SimpleImputer\n",
        "from sklearn.preprocessing import StandardScaler, OneHotEncoder\n",
        "from sklearn.compose import ColumnTransformer\n",
        "from sklearn.model_selection import train_test_split\n",
        "from sklearn.linear_model import LinearRegression\n",
        "import joblib\n",
        "\n",
        "from custom_transformers import CombinedAttributesAdder  # your class here\n",
        "\n",
        "# Load dataset\n",
        "housing = pd.read_csv(\"housing.csv\")\n",
        "\n",
        "# Drop target column\n",
        "housing_labels = housing[\"median_house_value\"].copy()\n",
        "housing = housing.drop(\"median_house_value\", axis=1)\n",
        "\n",
        "# Separate numerical and categorical columns\n",
        "num_attribs = housing.select_dtypes(include=[np.number]).columns.tolist()\n",
        "cat_attribs = housing.select_dtypes(include=[object]).columns.tolist()\n",
        "\n",
        "# Numerical pipeline\n",
        "num_pipeline = Pipeline([\n",
        "    ('imputer', SimpleImputer(strategy=\"median\")),\n",
        "    ('attribs_adder', CombinedAttributesAdder()),\n",
        "    ('std_scaler', StandardScaler()),\n",
        "])\n",
        "\n",
        "# Full pipeline\n",
        "full_pipeline = ColumnTransformer([\n",
        "    (\"num\", num_pipeline, num_attribs),\n",
        "    (\"cat\", OneHotEncoder(), cat_attribs),\n",
        "])\n",
        "\n",
        "# Final pipeline with estimator\n",
        "final_pipeline = Pipeline([\n",
        "    (\"preprocessor\", full_pipeline),\n",
        "    (\"lin_reg\", LinearRegression())\n",
        "])\n",
        "\n",
        "# Train\n",
        "final_pipeline.fit(housing, housing_labels)\n",
        "\n",
        "# Save the pipeline\n",
        "joblib.dump(final_pipeline, \"pipeline.pkl\")\n",
        "print(\"Pipeline saved successfully!\")\n"
      ]
    }
  ]
}